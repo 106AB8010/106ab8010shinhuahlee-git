{
 "cells": [
  {
   "cell_type": "code",
   "execution_count": 3,
   "metadata": {
    "scrolled": true
   },
   "outputs": [],
   "source": [
    "import numpy as np\n",
    "import pandas as pd\n",
    "import xgboost as xgb\n",
    "from sklearn.model_selection import train_test_split\n",
    "from sklearn.metrics import mean_squared_error\n",
    "from sklearn.metrics import mean_absolute_error"
   ]
  },
  {
   "cell_type": "code",
   "execution_count": 4,
   "metadata": {},
   "outputs": [],
   "source": [
    "data_train = pd.read_csv('train-v3.csv')\n",
    "data_test = pd.read_csv('test-v3.csv')"
   ]
  },
  {
   "cell_type": "code",
   "execution_count": 5,
   "metadata": {},
   "outputs": [],
   "source": [
    "#drop irrelevant properties\n",
    "X = data_train.drop(['id','price'], axis=1)\n",
    "#price is train label\n",
    "y = data_train['price']"
   ]
  },
  {
   "cell_type": "code",
   "execution_count": 13,
   "metadata": {},
   "outputs": [],
   "source": [
    "#split train_dataset into train_data, train_label, test_data, test_label\n",
    "X_train, X_test, y_train, y_test = train_test_split(X, y, test_size=0.3, random_state=123)\n",
    "#use regressor to predict medv.\n",
    "xg_reg = xgb.XGBRegressor(objective='reg:linear', colsample_bytree=0.3, learning_rate=0.1, max_depth=10,\n",
    "                          alpha = 10, n_estimators=500, reg_lambda=2)\n"
   ]
  },
  {
   "cell_type": "code",
   "execution_count": 14,
   "metadata": {
    "scrolled": true
   },
   "outputs": [
    {
     "name": "stdout",
     "output_type": "stream",
     "text": [
      "Trained MAE: 263.005337 \n"
     ]
    }
   ],
   "source": [
    "#training the regressor\n",
    "xg_reg.fit(X_train, y_train)\n",
    "#use the trained regressor to predict test_data\n",
    "preds = xg_reg.predict(X_test)\n",
    "#calc rmse\n",
    "mae = np.sqrt(mean_absolute_error(y_test, preds))\n",
    "\n",
    "# mean_squared_error(y_test, preds)\n",
    "print(\"Trained MAE: %f \" % mae)"
   ]
  },
  {
   "cell_type": "code",
   "execution_count": null,
   "metadata": {
    "scrolled": true
   },
   "outputs": [],
   "source": [
    "#use the trained regressor to predict test dataset.\n",
    "x_test = data_test.drop(['id'], axis=1)\n",
    "\n",
    "predictions = xg_reg.predict(x_test)\n",
    "\n",
    "ID = (data_test.id).astype(int)\n",
    "\n",
    "result = np.c_[ID, predictions]\n",
    "#output results\n",
    "np.savetxt( 'xgb_submissionOK.csv', result, fmt=\"%d,%.4f\" ,header='ID,price', delimiter=',', comments='')\n"
   ]
  },
  {
   "cell_type": "code",
   "execution_count": null,
   "metadata": {},
   "outputs": [],
   "source": [
    "data_testfinal = pd.read_csv('valid-v3.csv')\n",
    "data_trainfinal = pd.read_csv('xgb_submission.csv')"
   ]
  },
  {
   "cell_type": "code",
   "execution_count": null,
   "metadata": {},
   "outputs": [],
   "source": [
    "mae = np.sqrt(mean_absolute_error(data_testfinal.price, data_trainfinal.price))\n",
    "print(mae)"
   ]
  }
 ],
 "metadata": {
  "kernelspec": {
   "display_name": "Python 3",
   "language": "python",
   "name": "python3"
  },
  "language_info": {
   "codemirror_mode": {
    "name": "ipython",
    "version": 3
   },
   "file_extension": ".py",
   "mimetype": "text/x-python",
   "name": "python",
   "nbconvert_exporter": "python",
   "pygments_lexer": "ipython3",
   "version": "3.6.4"
  }
 },
 "nbformat": 4,
 "nbformat_minor": 2
}
